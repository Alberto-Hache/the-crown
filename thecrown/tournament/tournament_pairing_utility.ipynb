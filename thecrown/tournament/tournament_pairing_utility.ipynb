{
 "cells": [
  {
   "cell_type": "code",
   "execution_count": 13,
   "metadata": {
    "tags": []
   },
   "outputs": [
    {
     "output_type": "stream",
     "name": "stdout",
     "text": "[[6, '0.025'], [6, '0.2'], [6, '1.6'], [5, '0.025'], [5, '0.2'], [5, '1.6'], [4, '0.025'], [4, '0.2'], [4, '1.6'], [3, '0.025'], [3, '0.2'], [3, '1.6'], [2, '0.025'], [2, '0.2'], [2, '1.6'], [1, '0.025'], [1, '0.2'], [1, '1.6']]\n"
    }
   ],
   "source": [
    "# Create list of players.\n",
    "list = [[d, r] for d in range(6, 0, -1) for r in (\"0.025\", \"0.2\", \"1.6\")]\n",
    "print(list)\n",
    "\n",
    "# Name of the players:\n",
    "depth_name = (\n",
    "    \"\",  # No depth 0\n",
    "    \"c-i\",\n",
    "    \"c-ii\",\n",
    "    \"c-iii\",\n",
    "    \"c-iv\",\n",
    "    \"c-v\",\n",
    "    \"c-vi\"\n",
    ")"
   ]
  },
  {
   "cell_type": "code",
   "execution_count": 14,
   "metadata": {
    "tags": []
   },
   "outputs": [],
   "source": [
    "import numpy as np\n",
    "n_players = len(list)\n",
    "history = np.zeros((n_players, n_players))\n",
    "\n",
    "# Cancel pairings of equal depth.\n",
    "for p1_idx in range(n_players):\n",
    "    for p2_idx in range(n_players -1, -1, -1):\n",
    "        if list[p1_idx][0] == list[p2_idx][0]:\n",
    "            history[p1_idx][p2_idx] = 1\n"
   ]
  },
  {
   "cell_type": "code",
   "execution_count": 10,
   "metadata": {
    "tags": []
   },
   "outputs": [
    {
     "output_type": "stream",
     "name": "stdout",
     "text": "\nDay 1 (17 pairings):\nc-i(0.025)\tc-vi(1.6)\nc-i(0.2)\tc-vi(1.6)\nc-i(1.6)\tc-vi(1.6)\nc-ii(0.025)\tc-vi(1.6)\nc-ii(0.2)\tc-vi(1.6)\nc-ii(1.6)\tc-vi(1.6)\nc-iii(0.025)\tc-vi(1.6)\nc-iii(0.2)\tc-vi(1.6)\nc-iii(1.6)\tc-vi(1.6)\nc-iv(0.025)\tc-vi(1.6)\nc-iv(0.2)\tc-vi(1.6)\nc-iv(1.6)\tc-vi(1.6)\nc-v(0.025)\tc-vi(1.6)\nc-v(0.2)\tc-vi(1.6)\nc-v(1.6)\tc-vi(1.6)\nc-vi(0.025)\tc-v(1.6)\nc-vi(0.2)\tc-v(1.6)\n----------\n\nDay 2 (16 pairings):\nc-i(0.025)\tc-vi(0.2)\nc-i(0.2)\tc-vi(0.2)\nc-i(1.6)\tc-vi(0.2)\nc-ii(0.025)\tc-vi(0.2)\nc-ii(0.2)\tc-vi(0.2)\nc-ii(1.6)\tc-vi(0.2)\nc-iii(0.025)\tc-vi(0.2)\nc-iii(0.2)\tc-vi(0.2)\nc-iii(1.6)\tc-vi(0.2)\nc-iv(0.025)\tc-vi(0.2)\nc-iv(0.2)\tc-vi(0.2)\nc-iv(1.6)\tc-vi(0.2)\nc-v(0.025)\tc-vi(0.2)\nc-v(0.2)\tc-vi(0.2)\nc-v(1.6)\tc-iv(1.6)\nc-vi(0.025)\tc-v(0.2)\n----------\n\nDay 3 (15 pairings):\nc-i(0.025)\tc-vi(0.025)\nc-i(0.2)\tc-vi(0.025)\nc-i(1.6)\tc-vi(0.025)\nc-ii(0.025)\tc-vi(0.025)\nc-ii(0.2)\tc-vi(0.025)\nc-ii(1.6)\tc-vi(0.025)\nc-iii(0.025)\tc-vi(0.025)\nc-iii(0.2)\tc-vi(0.025)\nc-iii(1.6)\tc-vi(0.025)\nc-iv(0.025)\tc-vi(0.025)\nc-iv(0.2)\tc-vi(0.025)\nc-iv(1.6)\tc-vi(0.025)\nc-v(0.025)\tc-vi(0.025)\nc-v(0.2)\tc-iv(1.6)\nc-v(1.6)\tc-iv(0.2)\n----------\n\nDay 4 (14 pairings):\nc-i(0.025)\tc-v(1.6)\nc-i(0.2)\tc-v(1.6)\nc-i(1.6)\tc-v(1.6)\nc-ii(0.025)\tc-v(1.6)\nc-ii(0.2)\tc-v(1.6)\nc-ii(1.6)\tc-v(1.6)\nc-iii(0.025)\tc-v(1.6)\nc-iii(0.2)\tc-v(1.6)\nc-iii(1.6)\tc-v(1.6)\nc-iv(0.025)\tc-v(1.6)\nc-iv(0.2)\tc-v(0.2)\nc-iv(1.6)\tc-v(0.025)\nc-v(0.025)\tc-iv(0.2)\nc-v(0.2)\tc-iv(0.025)\n----------\n\nDay 5 (13 pairings):\nc-i(0.025)\tc-v(0.2)\nc-i(0.2)\tc-v(0.2)\nc-i(1.6)\tc-v(0.2)\nc-ii(0.025)\tc-v(0.2)\nc-ii(0.2)\tc-v(0.2)\nc-ii(1.6)\tc-v(0.2)\nc-iii(0.025)\tc-v(0.2)\nc-iii(0.2)\tc-v(0.2)\nc-iii(1.6)\tc-v(0.2)\nc-iv(0.025)\tc-v(0.025)\nc-iv(0.2)\tc-iii(1.6)\nc-iv(1.6)\tc-iii(1.6)\nc-v(0.025)\tc-iii(1.6)\n----------\n\nDay 6 (12 pairings):\nc-i(0.025)\tc-v(0.025)\nc-i(0.2)\tc-v(0.025)\nc-i(1.6)\tc-v(0.025)\nc-ii(0.025)\tc-v(0.025)\nc-ii(0.2)\tc-v(0.025)\nc-ii(1.6)\tc-v(0.025)\nc-iii(0.025)\tc-v(0.025)\nc-iii(0.2)\tc-v(0.025)\nc-iii(1.6)\tc-iv(0.025)\nc-iv(0.025)\tc-iii(0.2)\nc-iv(0.2)\tc-iii(0.2)\nc-iv(1.6)\tc-iii(0.2)\n----------\n\nDay 7 (11 pairings):\nc-i(0.025)\tc-iv(1.6)\nc-i(0.2)\tc-iv(1.6)\nc-i(1.6)\tc-iv(1.6)\nc-ii(0.025)\tc-iv(1.6)\nc-ii(0.2)\tc-iv(1.6)\nc-ii(1.6)\tc-iv(1.6)\nc-iii(0.025)\tc-iv(1.6)\nc-iii(0.2)\tc-ii(1.6)\nc-iii(1.6)\tc-ii(1.6)\nc-iv(0.025)\tc-iii(0.025)\nc-iv(0.2)\tc-iii(0.025)\n----------\n\nDay 8 (10 pairings):\nc-i(0.025)\tc-iv(0.2)\nc-i(0.2)\tc-iv(0.2)\nc-i(1.6)\tc-iv(0.2)\nc-ii(0.025)\tc-iv(0.2)\nc-ii(0.2)\tc-iv(0.2)\nc-ii(1.6)\tc-iv(0.2)\nc-iii(0.025)\tc-ii(1.6)\nc-iii(0.2)\tc-ii(0.2)\nc-iii(1.6)\tc-ii(0.2)\nc-iv(0.025)\tc-ii(1.6)\n----------\n\nDay 9 (9 pairings):\nc-i(0.025)\tc-iv(0.025)\nc-i(0.2)\tc-iv(0.025)\nc-i(1.6)\tc-iv(0.025)\nc-ii(0.025)\tc-iv(0.025)\nc-ii(0.2)\tc-iv(0.025)\nc-ii(1.6)\tc-i(1.6)\nc-iii(0.025)\tc-ii(0.2)\nc-iii(0.2)\tc-ii(0.025)\nc-iii(1.6)\tc-ii(0.025)\n----------\n\nDay 10 (8 pairings):\nc-i(0.025)\tc-iii(1.6)\nc-i(0.2)\tc-iii(1.6)\nc-i(1.6)\tc-iii(1.6)\nc-ii(0.025)\tc-iii(0.025)\nc-ii(0.2)\tc-i(1.6)\nc-ii(1.6)\tc-i(0.2)\nc-iii(0.025)\tc-i(1.6)\nc-iii(0.2)\tc-i(1.6)\n----------\n\nDay 11 (7 pairings):\nc-i(0.025)\tc-iii(0.2)\nc-i(0.2)\tc-iii(0.2)\nc-i(1.6)\tc-ii(0.025)\nc-ii(0.025)\tc-i(0.2)\nc-ii(0.2)\tc-i(0.2)\nc-ii(1.6)\tc-i(0.025)\nc-iii(0.025)\tc-i(0.2)\n----------\n\nDay 12 (3 pairings):\nc-i(0.025)\tc-iii(0.025)\nc-ii(0.025)\tc-i(0.025)\nc-ii(0.2)\tc-i(0.025)\n----------\n"
    }
   ],
   "source": [
    "# Functions.\n",
    "def print_day_pairings(day_number, day_pairings):\n",
    "    print(f\"\\nDay {day_number} ({len(day_pairings)} pairings):\")\n",
    "    for pairing in day_pairings:\n",
    "        p1_idx, p2_idx = pairing\n",
    "        p1 = list[p1_idx]\n",
    "        p2 = list[p2_idx]\n",
    "        print(f\"{depth_name[p1[0]]}({p1[1]})\\t{depth_name[p2[0]]}({p2[1]})\")\n",
    "    print(\"----------\")\n",
    "\n",
    "# Calculate pairings.\n",
    "day = 1\n",
    "tournament_end = False\n",
    "tournament_pairings = []  # List of lists of daily pairings.\n",
    "while not(tournament_end):\n",
    "    day_pairings = []  # List of pairings for one day.\n",
    "    busy = np.zeros(n_players)  # Track who's paired for the day.\n",
    "    for p1_idx in range(n_players):\n",
    "        if not busy[p1_idx]:\n",
    "            for p2_idx in range(n_players - 1, -1, -1):\n",
    "                # Try this pairing\n",
    "                if not busy[p2_idx] and history[p1_idx][p2_idx] == 0:\n",
    "                    # Match players\n",
    "                    day_pairings.append((p1_idx, p2_idx))\n",
    "                    busy[p1_idx] = 1\n",
    "                    busy[p2_idx] = 1\n",
    "                    history[p1_idx][p2_idx] = 1\n",
    "                    history[p2_idx][p1_idx] = 1\n",
    "                    break\n",
    "    # All pairings tried now.\n",
    "    print_day_pairings(day, day_pairings)\n",
    "    day += 1\n",
    "    tournament_end = (history == 1).all()\n"
   ]
  },
  {
   "cell_type": "code",
   "execution_count": null,
   "metadata": {},
   "outputs": [],
   "source": []
  }
 ],
 "metadata": {
  "language_info": {
   "codemirror_mode": {
    "name": "ipython",
    "version": 3
   },
   "file_extension": ".py",
   "mimetype": "text/x-python",
   "name": "python",
   "nbconvert_exporter": "python",
   "pygments_lexer": "ipython3",
   "version": "3.8.2-final"
  },
  "orig_nbformat": 2,
  "kernelspec": {
   "name": "python38264bitvenv2venv95aadeee33454b41bd51ca700f148ca1",
   "display_name": "Python 3.8.2 64-bit ('.venv2': venv)"
  }
 },
 "nbformat": 4,
 "nbformat_minor": 2
}